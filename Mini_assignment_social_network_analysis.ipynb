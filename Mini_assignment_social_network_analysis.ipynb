{
 "cells": [
  {
   "cell_type": "markdown",
   "metadata": {},
   "source": [
    "## Understanding Graphical Social Network analysis used in Machine Learning \n",
    "\n",
    "Social Network these days are a part of our everyday life which paves the way for using social network analysis as a tool to solving wide variety of issues in the industry. In a recent [article](https://www.nytimes.com/2019/06/02/us/us-visa-application-social-media.html) published by the NY Times, the US immigrant authorities are using the social media information of its applicants in order to grant them a visa status in the country. Millions of applications are processed every year, making it next to impossible to sit through every user's social media profiles and analyse their credibility!\n",
    "\n",
    "Now, Imagine yourself working for the US authorities. You are approached by your client to find a possible solution to this problem. Your task is to extract information(features) from a sample of dataset to find the most potential or eligible candidates. \n",
    "\n",
    "As a first part of this assignment, we will try to find a way to solve this using some critical measures in graphical network analysis. Our dataset [facebook_edges.csv] contains a graph with nodes as your applicants, and edges representing their connections. "
   ]
  },
  {
   "cell_type": "markdown",
   "metadata": {},
   "source": [
    "After completing this assignment, you should be able to answer the following questions:\n",
    "\n",
    "### Graphical Network: Centrality Measures\n",
    "* What are the measures of centrality? \n",
    "* What are the different types of most commonly used centrality measures?\n",
    "* Why are they important for a graphical networks ? "
   ]
  },
  {
   "cell_type": "markdown",
   "metadata": {},
   "source": [
    "#### Notes: \n",
    "* Information on the dataset : The data collected from Facebook is in the following file : \n",
    "      1. facebook_edges.csv : contains networking information of these profiles. Each record is in format \"a b\" denoting 'a' is facebook friend of 'b' and vice-versa. Also, the graph can be assumed to be 'UNDIRECTED'.\n",
    "       \n",
    "* For ease of setup and simplicity, I would recommend using [networkx](https://networkx.github.io/). However, there are few other tools like [graph-tool](https://graph-tool.skewed.de/static/doc/index.html), [gephi](https://gephi.org/), [netwulf](https://github.com/benmaier/netwulf/) etc. Feel free to use any tool of your choice. \n",
    "\n",
    "* You can either use Spark DataFrame or pandas.DataFrame to do the assignment. In comparison, pandas.DataFrame has richer APIs, but is not good at distributed computing."
   ]
  },
  {
   "cell_type": "markdown",
   "metadata": {},
   "source": [
    "## Part 1: Centrality Measures"
   ]
  },
  {
   "cell_type": "markdown",
   "metadata": {},
   "source": [
    "In graph theory and network analysis, indicators of centrality identify the most important vertices within a graph. Applications include identifying the most influential person(s) in a social network. These centrality measures in graphical network answers a very basic question : \"Who is the most important or central person in the network?\". Before proceeding ahead, I would strongly recommend you to read centrality and its different measures [online](https://en.wikipedia.org/wiki/Centrality).\n",
    "\n",
    "In our scenario, we will try using centrality as a tool for identifying most prominent applicants. "
   ]
  },
  {
   "cell_type": "markdown",
   "metadata": {},
   "source": [
    "For the first step, we read the data as DataFrames and further implement algorithms related to centrality measures to understand their importance in graphical analysis. "
   ]
  },
  {
   "cell_type": "code",
   "execution_count": 3,
   "metadata": {},
   "outputs": [
    {
     "data": {
      "text/html": [
       "<div>\n",
       "<style scoped>\n",
       "    .dataframe tbody tr th:only-of-type {\n",
       "        vertical-align: middle;\n",
       "    }\n",
       "\n",
       "    .dataframe tbody tr th {\n",
       "        vertical-align: top;\n",
       "    }\n",
       "\n",
       "    .dataframe thead th {\n",
       "        text-align: right;\n",
       "    }\n",
       "</style>\n",
       "<table border=\"1\" class=\"dataframe\">\n",
       "  <thead>\n",
       "    <tr style=\"text-align: right;\">\n",
       "      <th></th>\n",
       "      <th>node0</th>\n",
       "      <th>node1</th>\n",
       "    </tr>\n",
       "  </thead>\n",
       "  <tbody>\n",
       "    <tr>\n",
       "      <th>0</th>\n",
       "      <td>881</td>\n",
       "      <td>858</td>\n",
       "    </tr>\n",
       "    <tr>\n",
       "      <th>1</th>\n",
       "      <td>828</td>\n",
       "      <td>697</td>\n",
       "    </tr>\n",
       "    <tr>\n",
       "      <th>2</th>\n",
       "      <td>884</td>\n",
       "      <td>864</td>\n",
       "    </tr>\n",
       "    <tr>\n",
       "      <th>3</th>\n",
       "      <td>856</td>\n",
       "      <td>869</td>\n",
       "    </tr>\n",
       "    <tr>\n",
       "      <th>4</th>\n",
       "      <td>889</td>\n",
       "      <td>856</td>\n",
       "    </tr>\n",
       "    <tr>\n",
       "      <th>5</th>\n",
       "      <td>872</td>\n",
       "      <td>873</td>\n",
       "    </tr>\n",
       "    <tr>\n",
       "      <th>6</th>\n",
       "      <td>719</td>\n",
       "      <td>713</td>\n",
       "    </tr>\n",
       "    <tr>\n",
       "      <th>7</th>\n",
       "      <td>861</td>\n",
       "      <td>863</td>\n",
       "    </tr>\n",
       "    <tr>\n",
       "      <th>8</th>\n",
       "      <td>840</td>\n",
       "      <td>803</td>\n",
       "    </tr>\n",
       "    <tr>\n",
       "      <th>9</th>\n",
       "      <td>864</td>\n",
       "      <td>856</td>\n",
       "    </tr>\n",
       "  </tbody>\n",
       "</table>\n",
       "</div>"
      ],
      "text/plain": [
       "   node0  node1\n",
       "0    881    858\n",
       "1    828    697\n",
       "2    884    864\n",
       "3    856    869\n",
       "4    889    856\n",
       "5    872    873\n",
       "6    719    713\n",
       "7    861    863\n",
       "8    840    803\n",
       "9    864    856"
      ]
     },
     "execution_count": 3,
     "metadata": {},
     "output_type": "execute_result"
    }
   ],
   "source": [
    "import os\n",
    "import pandas as pd\n",
    "#<-- Write Your Code -->\n",
    "source = \"dataset/\"\n",
    "\n",
    "#Read the edges file as dataframe\n",
    "df_edges = pd.read_csv(source+\"facebook_edges.csv\")\n",
    "df_edges.head(10)"
   ]
  },
  {
   "cell_type": "markdown",
   "metadata": {},
   "source": [
    "Now, create a labelled graph from about `1000` random samples of the dataframe and save the image as A.png. (For higher number of nodes this steps takes time.) "
   ]
  },
  {
   "cell_type": "code",
   "execution_count": 1,
   "metadata": {},
   "outputs": [],
   "source": [
    "from networkx import *\n",
    "import matplotlib.pyplot as plt\n",
    "\n",
    "#<-- Write Your Code -->\n",
    "# Create graph for 1000 random samples. \n",
    "\n",
    "\n",
    "\n",
    "plt.savefig(\"A.png\", format=\"PNG\",figsize=(10,10))"
   ]
  },
  {
   "cell_type": "markdown",
   "metadata": {},
   "source": [
    "### Task 1a: Degree Centrality\n",
    "For this step we will find `Degree centrality measure`, which is one of the simplest centrality measure to compute. A node's degree is simply a count of how many social connections (i.e., edges) it has. To compute degree centrality you need to divide this value by `N-1`. Write a code to find the degree centrality of each node.  \n",
    "* **Please note** you are **not allowed** to use **in-built function** for computing degree_centrality in this step. Try to implement it yourself.  \n",
    "* Store the values for each node, in a new dataframe with a column `degree_centrality`, index being the vertices."
   ]
  },
  {
   "cell_type": "code",
   "execution_count": 27,
   "metadata": {},
   "outputs": [
    {
     "data": {
      "text/html": [
       "<div>\n",
       "<style scoped>\n",
       "    .dataframe tbody tr th:only-of-type {\n",
       "        vertical-align: middle;\n",
       "    }\n",
       "\n",
       "    .dataframe tbody tr th {\n",
       "        vertical-align: top;\n",
       "    }\n",
       "\n",
       "    .dataframe thead th {\n",
       "        text-align: right;\n",
       "    }\n",
       "</style>\n",
       "<table border=\"1\" class=\"dataframe\">\n",
       "  <thead>\n",
       "    <tr style=\"text-align: right;\">\n",
       "      <th></th>\n",
       "      <th>degree_centrality</th>\n",
       "    </tr>\n",
       "  </thead>\n",
       "  <tbody>\n",
       "    <tr>\n",
       "      <th>2446</th>\n",
       "      <td>0.003019</td>\n",
       "    </tr>\n",
       "    <tr>\n",
       "      <th>2055</th>\n",
       "      <td>0.003774</td>\n",
       "    </tr>\n",
       "    <tr>\n",
       "      <th>1912</th>\n",
       "      <td>0.004528</td>\n",
       "    </tr>\n",
       "    <tr>\n",
       "      <th>2038</th>\n",
       "      <td>0.001509</td>\n",
       "    </tr>\n",
       "    <tr>\n",
       "      <th>1668</th>\n",
       "      <td>0.001509</td>\n",
       "    </tr>\n",
       "  </tbody>\n",
       "</table>\n",
       "</div>"
      ],
      "text/plain": [
       "      degree_centrality\n",
       "2446           0.003019\n",
       "2055           0.003774\n",
       "1912           0.004528\n",
       "2038           0.001509\n",
       "1668           0.001509"
      ]
     },
     "execution_count": 27,
     "metadata": {},
     "output_type": "execute_result"
    }
   ],
   "source": [
    "#<-- Write Your Code -->\n",
    "\n",
    "def get_degree_centrality(g,node,n):\n",
    "    ''' Function returns degree centrality measure for each vertex (node)\n",
    "    Args:\n",
    "    g (obj): graph object  \n",
    "    node (int): vertex index \n",
    "    n (int)  : total number of nodes in the graph minus 1\n",
    "    Returns:\n",
    "    Float value denoting the degree measure of the vertex\n",
    "    '''\n",
    "    return \n",
    "\n",
    "\n",
    "nodes = g.nodes()\n",
    "df = pd.DataFrame(index=nodes)\n",
    "N= len(nodes)\n",
    "df['degree_centrality'] = df.index.map(lambda x: get_degree_centrality(g,x,N-1))\n",
    "df.head()"
   ]
  },
  {
   "cell_type": "markdown",
   "metadata": {},
   "source": [
    "**Display the top 10 nodes with highest degree centrality values in a graph. Save this image as B.png.**"
   ]
  },
  {
   "cell_type": "code",
   "execution_count": 3,
   "metadata": {},
   "outputs": [],
   "source": [
    "#<-- Write Your Code -->\n",
    "## Get the top nodes with high centrality \n",
    "max_nodes = 10\n",
    "high_degree_nodes = (df['degree_centrality'].sort_values(ascending=False)[:max_nodes]).index\n",
    "\n",
    "#<-- Write Your Code -->\n",
    "## Create graph from these 10 nodes\n",
    "\n",
    "#plt.savefig(\"B.png\", format=\"PNG\")"
   ]
  },
  {
   "cell_type": "markdown",
   "metadata": {},
   "source": [
    "Degree centrality represents a measure of how many connections a person has. Higher values mean the user has more connections and therefore, is highly \"important\" for our analysis. However, imagine a spam user who happens to have many fake friends, has a high degree centrality value. In such scenarios, these numbers could really be misleading. A user's importance should not only depend upon how many connections it has but also how many connections its neighbors have (and how many connections its neighbors' neighbors have and so on). Identifying whether he is a `key` connector in the graph is also important. Going further, we use two more critical measures : Betweenness and Eigenvector centrality. We will notice that each centrality measure indicates a different type of node importance.  "
   ]
  },
  {
   "cell_type": "markdown",
   "metadata": {},
   "source": [
    "### Task 1b : Betweenness (node) centrality"
   ]
  },
  {
   "cell_type": "markdown",
   "metadata": {},
   "source": [
    "One another metric is betweenness centrality, which identifies people who frequently are on the shortest paths between pairs of other people. Recall [Assignment 6 from CMPT 732](https://coursys.sfu.ca/2018fa-cmpt-732-g1/pages/Assign6) where we implemented a parallelized version of Dijkstra's Algorithm in Spark. As a part of this segment, we will implement a simple algorithm to find the node centrality, i.e the number of shortest paths that each node is a part of. Centrality of node `i` is computed by adding up, for every other pair of nodes `j` and `k`, the number of shortest paths between node `j` and node `k` that pass through `i`. Please complete the function below that takes in the graph and returns a dictionary with their node centrality values. Note that **you are allowed** to use in-built functions for getting the shortest path between two nodes. "
   ]
  },
  {
   "cell_type": "code",
   "execution_count": 31,
   "metadata": {},
   "outputs": [
    {
     "data": {
      "text/html": [
       "<div>\n",
       "<style scoped>\n",
       "    .dataframe tbody tr th:only-of-type {\n",
       "        vertical-align: middle;\n",
       "    }\n",
       "\n",
       "    .dataframe tbody tr th {\n",
       "        vertical-align: top;\n",
       "    }\n",
       "\n",
       "    .dataframe thead th {\n",
       "        text-align: right;\n",
       "    }\n",
       "</style>\n",
       "<table border=\"1\" class=\"dataframe\">\n",
       "  <thead>\n",
       "    <tr style=\"text-align: right;\">\n",
       "      <th></th>\n",
       "      <th>degree_centrality</th>\n",
       "      <th>node_centrality</th>\n",
       "    </tr>\n",
       "  </thead>\n",
       "  <tbody>\n",
       "    <tr>\n",
       "      <th>2446</th>\n",
       "      <td>0.003019</td>\n",
       "      <td>0.453952</td>\n",
       "    </tr>\n",
       "    <tr>\n",
       "      <th>2055</th>\n",
       "      <td>0.003774</td>\n",
       "      <td>0.604572</td>\n",
       "    </tr>\n",
       "    <tr>\n",
       "      <th>1912</th>\n",
       "      <td>0.004528</td>\n",
       "      <td>0.441150</td>\n",
       "    </tr>\n",
       "    <tr>\n",
       "      <th>2038</th>\n",
       "      <td>0.001509</td>\n",
       "      <td>0.059961</td>\n",
       "    </tr>\n",
       "    <tr>\n",
       "      <th>1668</th>\n",
       "      <td>0.001509</td>\n",
       "      <td>0.071979</td>\n",
       "    </tr>\n",
       "  </tbody>\n",
       "</table>\n",
       "</div>"
      ],
      "text/plain": [
       "      degree_centrality  node_centrality\n",
       "2446           0.003019         0.453952\n",
       "2055           0.003774         0.604572\n",
       "1912           0.004528         0.441150\n",
       "2038           0.001509         0.059961\n",
       "1668           0.001509         0.071979"
      ]
     },
     "execution_count": 31,
     "metadata": {},
     "output_type": "execute_result"
    }
   ],
   "source": [
    "#<-- Write Your Code -->\n",
    "\n",
    "def get_node_centrality(graph):\n",
    "    \"\"\" Funtion returns a dictionary with each vertex as index and \n",
    "    no. of shortest paths that the vertex is a part of as its value.\n",
    "    Args: \n",
    "    graph : graph object\n",
    "    Return:\n",
    "    n_spaths : (dict) vertex as keys and values as no. of shortest paths\n",
    "    \"\"\"\n",
    "    # 1. initialize dictionary with 0.0\n",
    "    n_spaths = dict.fromkeys(graph,0.0)\n",
    "    \n",
    "    # 2. get the shortest paths from all nodes. \n",
    "    s= dict(all_pairs_shortest_path(graph))\n",
    "    \n",
    "    # 3. write logic for counting the number of shortest paths each node is a part of. \n",
    "    \n",
    "    return n_spaths\n",
    "\n",
    "## Adding this value to original dataframe. \n",
    "node_centrality = get_node_centrality(g)\n",
    "\n",
    "from sklearn.preprocessing import minmax_scale\n",
    "df['node_centrality'] = df.index.map(lambda x: node_centrality[x])\n",
    "df['node_centrality'] = minmax_scale(df['node_centrality'])\n",
    "df.head()"
   ]
  },
  {
   "cell_type": "markdown",
   "metadata": {},
   "source": [
    "Betweenness centrality is a **normalized form** of nodal centrality measure. It is computed by adding up, for every other pair of nodes `j` and `k`, the `proportion` of shortest paths between node `j` and node `k` that pass through `i`. I would highly reccommend you to read about this measure [ online ](https://en.wikipedia.org/wiki/Betweenness_centrality). "
   ]
  },
  {
   "cell_type": "code",
   "execution_count": 34,
   "metadata": {},
   "outputs": [
    {
     "data": {
      "text/html": [
       "<div>\n",
       "<style scoped>\n",
       "    .dataframe tbody tr th:only-of-type {\n",
       "        vertical-align: middle;\n",
       "    }\n",
       "\n",
       "    .dataframe tbody tr th {\n",
       "        vertical-align: top;\n",
       "    }\n",
       "\n",
       "    .dataframe thead th {\n",
       "        text-align: right;\n",
       "    }\n",
       "</style>\n",
       "<table border=\"1\" class=\"dataframe\">\n",
       "  <thead>\n",
       "    <tr style=\"text-align: right;\">\n",
       "      <th></th>\n",
       "      <th>degree_centrality</th>\n",
       "      <th>node_centrality</th>\n",
       "      <th>betweenness_centrality</th>\n",
       "    </tr>\n",
       "  </thead>\n",
       "  <tbody>\n",
       "    <tr>\n",
       "      <th>2446</th>\n",
       "      <td>0.003019</td>\n",
       "      <td>0.453952</td>\n",
       "      <td>0.001703</td>\n",
       "    </tr>\n",
       "    <tr>\n",
       "      <th>2055</th>\n",
       "      <td>0.003774</td>\n",
       "      <td>0.604572</td>\n",
       "      <td>0.002668</td>\n",
       "    </tr>\n",
       "    <tr>\n",
       "      <th>1912</th>\n",
       "      <td>0.004528</td>\n",
       "      <td>0.441150</td>\n",
       "      <td>0.001838</td>\n",
       "    </tr>\n",
       "    <tr>\n",
       "      <th>2038</th>\n",
       "      <td>0.001509</td>\n",
       "      <td>0.059961</td>\n",
       "      <td>0.000174</td>\n",
       "    </tr>\n",
       "    <tr>\n",
       "      <th>1668</th>\n",
       "      <td>0.001509</td>\n",
       "      <td>0.071979</td>\n",
       "      <td>0.000251</td>\n",
       "    </tr>\n",
       "  </tbody>\n",
       "</table>\n",
       "</div>"
      ],
      "text/plain": [
       "      degree_centrality  node_centrality  betweenness_centrality\n",
       "2446           0.003019         0.453952                0.001703\n",
       "2055           0.003774         0.604572                0.002668\n",
       "1912           0.004528         0.441150                0.001838\n",
       "2038           0.001509         0.059961                0.000174\n",
       "1668           0.001509         0.071979                0.000251"
      ]
     },
     "execution_count": 34,
     "metadata": {},
     "output_type": "execute_result"
    }
   ],
   "source": [
    "### Finding betweenness centrality\n",
    "bet = betweenness_centrality(g, normalized=True)\n",
    "df['betweenness_centrality'] = df.index.map(lambda x: bet[x])\n",
    "df.head()"
   ]
  },
  {
   "cell_type": "markdown",
   "metadata": {},
   "source": [
    "### Task 1c: EigenVector Centrality"
   ]
  },
  {
   "cell_type": "markdown",
   "metadata": {},
   "source": [
    "As we saw before, computing shortest paths is kind of a pain. For this reason, node and betweenness centrality isn't often used on large networks. The less intuitive (but generally easier to compute) eigenvector centrality is more frequently used. Eigenvector centralities are numbers, one per user, such that each user’s value is a constant multiple of the sum of his neighbors’ values. In this case centrality means being connected to people who themselves are central. The more centrality you are directly connected to, the more central you are. This is of course a circular definition — eigenvectors are the way of breaking out of the circularity. I highly recommend you to read further about eigenvectors and their role in finding the centrality measure. **Please note**, for this task you can use the in-built function for computing eigenvector centrality but before that, please make sure you understand how it works. "
   ]
  },
  {
   "cell_type": "code",
   "execution_count": 48,
   "metadata": {},
   "outputs": [
    {
     "data": {
      "text/html": [
       "<div>\n",
       "<style scoped>\n",
       "    .dataframe tbody tr th:only-of-type {\n",
       "        vertical-align: middle;\n",
       "    }\n",
       "\n",
       "    .dataframe tbody tr th {\n",
       "        vertical-align: top;\n",
       "    }\n",
       "\n",
       "    .dataframe thead th {\n",
       "        text-align: right;\n",
       "    }\n",
       "</style>\n",
       "<table border=\"1\" class=\"dataframe\">\n",
       "  <thead>\n",
       "    <tr style=\"text-align: right;\">\n",
       "      <th></th>\n",
       "      <th>degree_centrality</th>\n",
       "      <th>node_centrality</th>\n",
       "      <th>betweenness_centrality</th>\n",
       "      <th>eighenvector_centrality</th>\n",
       "    </tr>\n",
       "  </thead>\n",
       "  <tbody>\n",
       "    <tr>\n",
       "      <th>0</th>\n",
       "      <td>0.001509</td>\n",
       "      <td>0.002743</td>\n",
       "      <td>0.000009</td>\n",
       "      <td>2.498123e-18</td>\n",
       "    </tr>\n",
       "    <tr>\n",
       "      <th>1</th>\n",
       "      <td>0.000755</td>\n",
       "      <td>0.000000</td>\n",
       "      <td>0.000000</td>\n",
       "      <td>7.102622e-41</td>\n",
       "    </tr>\n",
       "    <tr>\n",
       "      <th>20</th>\n",
       "      <td>0.000755</td>\n",
       "      <td>0.000000</td>\n",
       "      <td>0.000000</td>\n",
       "      <td>7.102622e-41</td>\n",
       "    </tr>\n",
       "    <tr>\n",
       "      <th>26</th>\n",
       "      <td>0.001509</td>\n",
       "      <td>0.001960</td>\n",
       "      <td>0.000006</td>\n",
       "      <td>2.196813e-18</td>\n",
       "    </tr>\n",
       "    <tr>\n",
       "      <th>38</th>\n",
       "      <td>0.000755</td>\n",
       "      <td>0.000000</td>\n",
       "      <td>0.000000</td>\n",
       "      <td>7.102622e-41</td>\n",
       "    </tr>\n",
       "  </tbody>\n",
       "</table>\n",
       "</div>"
      ],
      "text/plain": [
       "    degree_centrality  node_centrality  betweenness_centrality  \\\n",
       "0            0.001509         0.002743                0.000009   \n",
       "1            0.000755         0.000000                0.000000   \n",
       "20           0.000755         0.000000                0.000000   \n",
       "26           0.001509         0.001960                0.000006   \n",
       "38           0.000755         0.000000                0.000000   \n",
       "\n",
       "    eighenvector_centrality  \n",
       "0              2.498123e-18  \n",
       "1              7.102622e-41  \n",
       "20             7.102622e-41  \n",
       "26             2.196813e-18  \n",
       "38             7.102622e-41  "
      ]
     },
     "execution_count": 48,
     "metadata": {},
     "output_type": "execute_result"
    }
   ],
   "source": [
    "#<-- Write Your Code -->\n",
    "# Find EigenVector centrality (Remember to choose a high iteration value for `max_iter` for the algorithm to converge)\n",
    "\n",
    "df.head()"
   ]
  },
  {
   "cell_type": "markdown",
   "metadata": {},
   "source": [
    "##### To inspect the difference between various centrality values we plot the top 100 users with highest degree centrality showing how these numbers can be different for different users. To give an idea, your graph should be somewhat like the plot given below.  \n",
    "\n",
    "**Please Note** : Generally, the centrality numbers aren’t that meaningful themselves. What we really care about is how the numbers for each node compare to the numbers for other nodes. Hence, for the purpose of plot you are allowed to multiply centrality values by a common factor to bring it in a reasonable range. "
   ]
  },
  {
   "cell_type": "code",
   "execution_count": 58,
   "metadata": {
    "scrolled": true
   },
   "outputs": [
    {
     "data": {
      "image/png": "[encoded data removed]",
      "text/plain": [
       "<Figure size 864x360 with 1 Axes>"
      ]
     },
     "metadata": {
      "needs_background": "light"
     },
     "output_type": "display_data"
    }
   ],
   "source": [
    "#<-- Write Your Code -->\n",
    "\n"
   ]
  },
  {
   "cell_type": "markdown",
   "metadata": {},
   "source": [
    "**Observe the graph closely and write two most interesting insights from the above comparison plot.**\n",
    "* [1]  \n",
    "\n",
    "* [2] "
   ]
  },
  {
   "cell_type": "markdown",
   "metadata": {},
   "source": [
    "In this part of the assignment, we focussed on finding the critical users (nodes) by establishing a connection between their centrality measures in graphical networks. Apart from US immigration, you can think of many other scenarios where this method can be useful. For example, say you are in the recruiting team of your company which is looking to hire data scientists. Since there are a lot of applicants, instead of just going through their resumes (since they all look the same anyway! ;) ), you plan on using their coorporate social media profiles (on linkedin) for finding the most \"renowned\" data scientists for your company. \n",
    "\n",
    "Likewise, you can think about more such scenarios which can be solved using the above approach for graphical networks.  "
   ]
  }
 ],
 "metadata": {
  "kernelspec": {
   "display_name": "Python 3",
   "language": "python",
   "name": "python3"
  },
  "language_info": {
   "codemirror_mode": {
    "name": "ipython",
    "version": 3
   },
   "file_extension": ".py",
   "mimetype": "text/x-python",
   "name": "python",
   "nbconvert_exporter": "python",
   "pygments_lexer": "ipython3",
   "version": "3.7.3"
  }
 },
 "nbformat": 4,
 "nbformat_minor": 2
}
